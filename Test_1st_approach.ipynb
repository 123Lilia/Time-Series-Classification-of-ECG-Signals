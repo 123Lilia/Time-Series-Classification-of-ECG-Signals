{
  "nbformat": 4,
  "nbformat_minor": 0,
  "metadata": {
    "colab": {
      "provenance": []
    },
    "kernelspec": {
      "name": "python3",
      "display_name": "Python 3"
    },
    "language_info": {
      "name": "python"
    }
  },
  "cells": [
    {
      "cell_type": "markdown",
      "source": [
        "# I.Testing for the first approach"
      ],
      "metadata": {
        "id": "GLWjRZQvuMrv"
      }
    },
    {
      "cell_type": "markdown",
      "source": [
        "## packages imports"
      ],
      "metadata": {
        "id": "ZzdYzkSCyDYx"
      }
    },
    {
      "cell_type": "code",
      "source": [
        "import joblib\n",
        "from tensorflow.keras.models import load_model\n",
        "from sklearn.metrics import classification_report, accuracy_score\n",
        "import pandas as pd\n",
        "import numpy as np\n",
        "from google.colab import drive\n"
      ],
      "metadata": {
        "id": "_Hkr_2GtyHAB"
      },
      "execution_count": 78,
      "outputs": []
    },
    {
      "cell_type": "markdown",
      "source": [
        "# 1.RNN"
      ],
      "metadata": {
        "id": "sjF5uxJ0X_mR"
      }
    },
    {
      "cell_type": "code",
      "source": [
        "# Load the test data\n",
        "file_path = '/content/drive/MyDrive/......'\n",
        "test_data = pd.read_csv(file_path, sep=\"\\s+\", header=None)"
      ],
      "metadata": {
        "id": "tudtlU22x07g"
      },
      "execution_count": null,
      "outputs": []
    },
    {
      "cell_type": "code",
      "source": [
        "# Mount Google Drive\n",
        "drive.mount('/content/drive')\n",
        "\n",
        "# Load the saved model\n",
        "model = load_model('/content/drive/MyDrive/rnn_model.keras')\n",
        "\n",
        "# Load the saved scaler\n",
        "scaler = joblib.load('/content/drive/MyDrive/scaler_rnn.joblib')\n",
        "\n",
        "\n",
        "\n",
        "# Separate features and labels\n",
        "X_test = test_data.iloc[:, 1:].values\n",
        "y_test = test_data.iloc[:, 0].values\n",
        "\n",
        "# Ensure labels are consistent (e.g., binary 0 and 1)\n",
        "y_test = np.where(y_test == -1, 0, y_test)\n",
        "\n",
        "# Scale the test data using the loaded scaler\n",
        "X_test_scaled = scaler.transform(X_test)\n",
        "\n",
        "# Reshape the test data for RNN\n",
        "X_test_rnn = X_test_scaled.reshape(-1, 1, 96)\n",
        "\n",
        "# Evaluate the model\n",
        "loss, accuracy = model.evaluate(X_test_rnn, y_test)\n",
        "print(\"Test Accuracy:\", accuracy)\n",
        "\n",
        "# Generate predictions\n",
        "y_pred = (model.predict(X_test_rnn) > 0.5).astype(\"int32\")\n",
        "\n",
        "# Print the classification report\n",
        "print(\"\\nClassification Report on Test Data:\")\n",
        "print(classification_report(y_test, y_pred))\n"
      ],
      "metadata": {
        "id": "x3nxo_fsxyN4"
      },
      "execution_count": null,
      "outputs": []
    },
    {
      "cell_type": "markdown",
      "source": [
        "# 2.NN (neural network)"
      ],
      "metadata": {
        "id": "IS_sijsYYCYb"
      }
    },
    {
      "cell_type": "code",
      "source": [
        "# Load the test data\n",
        "file_path = '/content/drive/MyDrive/'\n",
        "test_data = pd.read_csv(file_path, sep=\"\\s+\", header=None)"
      ],
      "metadata": {
        "id": "KtZQO7v9x6E7"
      },
      "execution_count": null,
      "outputs": []
    },
    {
      "cell_type": "code",
      "source": [
        "# Mount Google Drive\n",
        "drive.mount('/content/drive')\n",
        "\n",
        "# Load the saved model\n",
        "nn_model = joblib.load('/content/drive/MyDrive/nn_modell.joblib')\n",
        "\n",
        "# Load the test data\n",
        "file_path = '/content/drive/MyDrive/ECG200_TEST.txt'  ## the path will be removed!\n",
        "test_data = pd.read_csv(file_path, sep=\"\\s+\", header=None)\n",
        "\n",
        "# Separate features and labels\n",
        "X_test = test_data.iloc[:, 1:].values\n",
        "y_test = test_data.iloc[:, 0].values\n",
        "\n",
        "# Ensure labels are consistent (e.g., binary 0 and 1)\n",
        "y_test = np.where(y_test == -1, 0, y_test)\n",
        "\n",
        "# Scale the test data using the same scaler as used for training\n",
        "scaler = joblib.load('/content/drive/MyDrive/scaler_nn.joblib')\n",
        "X_test_scaled = scaler.transform(X_test)\n",
        "\n",
        "# Generate predictions\n",
        "y_pred = nn_model.predict(X_test_scaled)\n",
        "\n",
        "# Evaluate the model\n",
        "accuracy = accuracy_score(y_test, y_pred)\n",
        "print(\"Test Accuracy:\", accuracy)\n",
        "\n",
        "# Print the classification report\n",
        "print(\"\\nClassification Report on Test Data:\")\n",
        "print(classification_report(y_test, y_pred))\n"
      ],
      "metadata": {
        "id": "F_tvBQJIx9aa"
      },
      "execution_count": null,
      "outputs": []
    }
  ]
}